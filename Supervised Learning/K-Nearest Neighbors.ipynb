{
 "cells": [
  {
   "attachments": {},
   "cell_type": "markdown",
   "metadata": {},
   "source": [
    "# K-Nearest Neighbors\n",
    "\n",
    "K-Nearest Neighbors is suitable for this type of classifications as it allows for high classification accuracy even with complex data distributions. Its capacity to support both binary and muti-class classification makes it a very good candidate for estimating room occupancy.\n"
   ]
  },
  {
   "cell_type": "code",
   "execution_count": 1,
   "metadata": {},
   "outputs": [],
   "source": [
    "# Import libraries needed\n",
    "import pandas as pd\n",
    "from sklearn.model_selection import train_test_split\n",
    "import matplotlib.pyplot as plt\n",
    "%matplotlib inline\n",
    "\n",
    "from sklearn.metrics import confusion_matrix\n",
    "from sklearn.metrics import roc_auc_score\n",
    "from sklearn.metrics import roc_curve"
   ]
  },
  {
   "attachments": {},
   "cell_type": "markdown",
   "metadata": {},
   "source": [
    "## Data Setup"
   ]
  },
  {
   "cell_type": "code",
   "execution_count": 2,
   "metadata": {},
   "outputs": [],
   "source": [
    "# Read dataset and create training an testing datasets\n",
    "training_set = pd.read_csv('../Data/train.csv')\n",
    "training_set = training_set.drop(columns=[\"id\"])\n",
    "training_set[\"defects\"] = [1 if value else 0 for value in training_set[\"defects\"]]\n",
    "training_set = training_set.rename(columns={\"v(g)\": \"v_g\", \"ev(g)\": \"ev_g\", \"iv(g)\": \"iv_g\"})"
   ]
  },
  {
   "cell_type": "code",
   "execution_count": 3,
   "metadata": {},
   "outputs": [],
   "source": [
    "true_data = training_set[training_set[\"defects\"].values == True]\n",
    "false_data = training_set[training_set[\"defects\"].values == False]\n",
    "\n",
    "true_feature_data = true_data.drop(columns=[\"defects\"])\n",
    "false_feature_data = false_data.drop(columns=[\"defects\"])\n",
    "\n",
    "true_train_proportion = 0.5\n",
    "false_train_proportion = true_train_proportion * len(true_feature_data) / len(false_feature_data)\n",
    "\n",
    "true_X_train, true_X_validation, true_Y_train, true_Y_validation = train_test_split(true_feature_data, true_data[\"defects\"], test_size=(1-true_train_proportion))\n",
    "false_X_train, false_X_validation, false_Y_train, false_Y_validation = train_test_split(false_feature_data, false_data[\"defects\"], test_size=(1-false_train_proportion))\n",
    "\n",
    "X_train = pd.concat([true_X_train, false_X_train])\n",
    "X_validation = pd.concat([true_X_validation, false_X_validation])\n",
    "Y_train = pd.concat([true_Y_train, false_Y_train])\n",
    "Y_validation = pd.concat([true_Y_validation, false_Y_validation])"
   ]
  },
  {
   "attachments": {},
   "cell_type": "markdown",
   "metadata": {},
   "source": [
    "## Model Creation"
   ]
  },
  {
   "cell_type": "code",
   "execution_count": 4,
   "metadata": {},
   "outputs": [],
   "source": [
    "class KNN:\n",
    "    \"\"\"\n",
    "    Class to store data for regression problems \n",
    "    \"\"\"\n",
    "    def __init__(self, x_train, y_train, K=5):\n",
    "        \"\"\"\n",
    "        Creates a kNN instance\n",
    "\n",
    "        :param x_train: numpy array with shape (n_rows,1)- e.g. [[1,2],[3,4]]\n",
    "        :param y_train: numpy array with shape (n_rows,)- e.g. [1,-1]\n",
    "        :param K: The number of nearest points to consider in classification\n",
    "        \"\"\"\n",
    "        \n",
    "        # Import and build the BallTree on training features \n",
    "        from sklearn.neighbors import BallTree\n",
    "        self.balltree = BallTree(x_train)\n",
    "        \n",
    "        # Cache training labels and parameter K \n",
    "        self.y_train = y_train\n",
    "        self.K = K \n",
    "        \n",
    "        \n",
    "    def majority(self, neighbor_indices, neighbor_distances=None):\n",
    "        \"\"\"\n",
    "        Given indices of nearest neighbors in training set, return the majority label. \n",
    "        Break ties by considering 1 fewer neighbor until a clear winner is found. \n",
    "\n",
    "        :param neighbor_indices: The indices of the K nearest neighbors in self.X_train \n",
    "        :param neighbor_distances: Corresponding distances from query point to K nearest neighbors. \n",
    "        \"\"\"\n",
    "        \n",
    "        while(True):\n",
    "            label_count = {}\n",
    "            \n",
    "            # Get label counts for all datapoint's neighbors\n",
    "            for i in neighbor_indices:\n",
    "                label = self.y_train[i]\n",
    "                if label in label_count:\n",
    "                    label_count[label] += 1\n",
    "                else:\n",
    "                    label_count[label] = 1\n",
    "            \n",
    "            # Get first class with highest count\n",
    "            max_value = max(label_count.values())\n",
    "            max_key = max(label_count, key=label_count.get)\n",
    "            \n",
    "            # Ensure there are no max-count ties\n",
    "            n_modes = 0\n",
    "            for x in label_count:\n",
    "                if(x == max_value):\n",
    "                    n_modes += 1\n",
    "            \n",
    "            # If a tie was detected, remove furthest neighbor and iterate again\n",
    "            if(n_modes > 1):\n",
    "                furthest_neighbor = neighbor_distances.index(max(neighbor_distances))\n",
    "                del neighbor_indices[furthest_neighbor]\n",
    "                del neighbor_distances[furthest_neighbor]\n",
    "            else:\n",
    "                # Otherwise, return class with highest neighbor count\n",
    "                return max_key\n",
    "            \n",
    "        \n",
    "    def classify(self, x):\n",
    "        \"\"\"\n",
    "        Given a query point, return the predicted label \n",
    "        \n",
    "        :param x: a query point stored as an ndarray  \n",
    "        \"\"\"\n",
    "\n",
    "        # Get neighbors and their distances\n",
    "        neighbor_distances, neighbor_indices = self.balltree.query(x.reshape(1, -1), k=self.K)\n",
    "\n",
    "        # Get class with majority representation\n",
    "        return self.majority(neighbor_indices[0], neighbor_distances[0])        \n",
    "        \n",
    "    def predict(self, X):\n",
    "        \"\"\"\n",
    "        Given an ndarray of query points, an ndarray of predictions \n",
    "\n",
    "        :param X: an (m x p) dimension ndarray of points to predict labels for \n",
    "        \"\"\"\n",
    "        return [self.classify(item) for item in X]"
   ]
  },
  {
   "attachments": {},
   "cell_type": "markdown",
   "metadata": {},
   "source": [
    "## Model Evaluation"
   ]
  },
  {
   "cell_type": "code",
   "execution_count": 5,
   "metadata": {},
   "outputs": [],
   "source": [
    "# Create a KNN classifier\n",
    "knn = KNN(X_train.values, Y_train.values, K=3)\n",
    "\n",
    "# Get prediction for testing dataset\n",
    "prediction = knn.predict(X_validation.values)\n"
   ]
  },
  {
   "cell_type": "code",
   "execution_count": 6,
   "metadata": {},
   "outputs": [
    {
     "name": "stdout",
     "output_type": "stream",
     "text": [
      "Correctly predicted labelss:  52050\n",
      "Incorrectly predicted labelss:  26649\n",
      "Model's accuracy:  0.6613807036938207\n",
      "Model's recall:  0.6560874089490114\n",
      "Model's precision:  0.250123971040365\n",
      "Model's F1 score:  0.3621741940116321\n"
     ]
    }
   ],
   "source": [
    "conf_matrix = confusion_matrix(Y_validation.values, prediction, labels=[0, 1])\n",
    "\n",
    "recall_true = conf_matrix[1][1] / (conf_matrix[1][0] + conf_matrix[1][1])\n",
    "precision_true = conf_matrix[1][1] / (conf_matrix[0][1] + conf_matrix[1][1])\n",
    "F1_true = 2 * ( (precision_true * recall_true) / (precision_true + recall_true) )\n",
    "\n",
    "correct_vals = conf_matrix[0][0] + conf_matrix[1][1]\n",
    "incorrect_vals = conf_matrix[0][1] + conf_matrix[1][0]\n",
    "accuracy = correct_vals / (correct_vals + incorrect_vals)\n",
    "\n",
    "print(\"Correctly predicted labelss: \", correct_vals)\n",
    "print(\"Incorrectly predicted labelss: \", incorrect_vals)\n",
    "print(\"Model's accuracy: \", accuracy)\n",
    "print(\"Model's recall: \", recall_true)\n",
    "print(\"Model's precision: \", precision_true)\n",
    "print(\"Model's F1 score: \", F1_true)"
   ]
  },
  {
   "cell_type": "code",
   "execution_count": 7,
   "metadata": {},
   "outputs": [
    {
     "data": {
      "image/png": "[encoded data removed]",
      "text/plain": [
       "<Figure size 640x480 with 1 Axes>"
      ]
     },
     "metadata": {},
     "output_type": "display_data"
    }
   ],
   "source": [
    "# Plot confusion Matrix\n",
    "fig, ax = plt.subplots()\n",
    "ax.matshow(conf_matrix, cmap='tab20c')\n",
    "\n",
    "# Print classification counts within matrix boxes\n",
    "for i in range(len(conf_matrix)):\n",
    "   for j in range(len(conf_matrix[0])):\n",
    "      c = conf_matrix[j, i]\n",
    "      ax.text(i, j, str(c), va='center', ha='center')\n",
    "\n",
    "# Set plot axis titles and show plot\n",
    "ax.set_xlabel('Predicted Label')\n",
    "ax.set_ylabel('True Label')\n",
    "ax.set_title('Classification Counts')\n",
    "plt.show()"
   ]
  },
  {
   "cell_type": "code",
   "execution_count": 8,
   "metadata": {},
   "outputs": [
    {
     "data": {
      "image/png": "[encoded data removed]",
      "text/plain": [
       "<Figure size 640x480 with 1 Axes>"
      ]
     },
     "metadata": {},
     "output_type": "display_data"
    }
   ],
   "source": [
    "# Calculate scores for testing dataset\n",
    "fpr, tpr, thresholds = roc_curve(Y_validation.values, prediction)\n",
    "\n",
    "# Calculate AUC score\n",
    "auc_score = roc_auc_score(Y_validation.values, prediction)\n",
    "\n",
    "# Print ROC plot\n",
    "plt.plot(fpr, tpr,)\n",
    "plt.axis(\"square\")\n",
    "plt.xlabel(\"False Positive Rate\")\n",
    "plt.ylabel(\"True Positive Rate\")\n",
    "plt.legend([\"AUC score: \" + str(round(auc_score, 5))], loc=\"best\")\n",
    "plt.show()"
   ]
  }
 ],
 "metadata": {
  "kernelspec": {
   "display_name": "Python 3",
   "language": "python",
   "name": "python3"
  },
  "language_info": {
   "codemirror_mode": {
    "name": "ipython",
    "version": 3
   },
   "file_extension": ".py",
   "mimetype": "text/x-python",
   "name": "python",
   "nbconvert_exporter": "python",
   "pygments_lexer": "ipython3",
   "version": "3.9.18"
  },
  "orig_nbformat": 4
 },
 "nbformat": 4,
 "nbformat_minor": 2
}
