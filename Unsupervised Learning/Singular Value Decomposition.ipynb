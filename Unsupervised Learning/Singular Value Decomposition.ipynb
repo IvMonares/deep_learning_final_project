{
 "cells": [
  {
   "attachments": {},
   "cell_type": "markdown",
   "metadata": {},
   "source": [
    "# Unsupervised Learning (Matrix Factorization)"
   ]
  },
  {
   "cell_type": "markdown",
   "metadata": {},
   "source": [
    "## Setup"
   ]
  },
  {
   "cell_type": "code",
   "execution_count": 1,
   "metadata": {},
   "outputs": [],
   "source": [
    "import pandas as pd\n",
    "from sklearn.model_selection import train_test_split\n",
    "from sklearn.metrics import confusion_matrix\n",
    "import matplotlib.pyplot as plt\n",
    "import seaborn as sns\n",
    "from sklearn.decomposition import PCA\n",
    "import itertools\n",
    "import numpy as np"
   ]
  },
  {
   "attachments": {},
   "cell_type": "markdown",
   "metadata": {},
   "source": [
    "### Data Setup"
   ]
  },
  {
   "cell_type": "code",
   "execution_count": 2,
   "metadata": {},
   "outputs": [],
   "source": [
    "# Read dataset and create training an testing datasets\n",
    "training_set = pd.read_csv('../Data/train.csv')\n",
    "training_set = training_set.drop(columns=[\"id\"])"
   ]
  },
  {
   "cell_type": "code",
   "execution_count": 3,
   "metadata": {},
   "outputs": [],
   "source": [
    "feature_data = training_set.drop(columns=[\"defects\"])\n",
    "\n",
    "indexes = training_set[\"defects\"].values\n",
    "\n",
    "true_data = training_set[training_set[\"defects\"].values == True]\n",
    "false_data = training_set[training_set[\"defects\"].values == False]\n",
    "\n",
    "true_feature_data = true_data.drop(columns=[\"defects\"])\n",
    "false_feature_data = false_data.drop(columns=[\"defects\"])\n",
    "\n",
    "true_train_proportion = 0.5\n",
    "false_train_proportion = true_train_proportion * len(true_feature_data) / len(false_feature_data)\n",
    "\n",
    "true_X_train, true_X_validation, true_Y_train, true_Y_validation = train_test_split(true_feature_data, true_data[\"defects\"], test_size=(1-true_train_proportion))\n",
    "false_X_train, false_X_validation, false_Y_train, false_Y_validation = train_test_split(false_feature_data, false_data[\"defects\"], test_size=(1-false_train_proportion))\n",
    "\n",
    "X_train = pd.concat([true_X_train, false_X_train])\n",
    "X_validation = pd.concat([true_X_validation, false_X_validation])\n",
    "Y_train = pd.concat([true_Y_train, false_Y_train])\n",
    "Y_validation = pd.concat([true_Y_validation, false_Y_validation])"
   ]
  },
  {
   "cell_type": "markdown",
   "metadata": {},
   "source": [
    "## Model Creation"
   ]
  },
  {
   "cell_type": "code",
   "execution_count": 4,
   "metadata": {},
   "outputs": [],
   "source": [
    "n_components=2\n",
    "pca = PCA(n_components=n_components)\n",
    "pca.fit(X_train) \n",
    "training_features = pca.transform(X_train)"
   ]
  },
  {
   "cell_type": "code",
   "execution_count": 5,
   "metadata": {},
   "outputs": [],
   "source": [
    "def replace_set_labels(label_set, new_labels, old_labels):\n",
    "    for i in range(len(old_labels)):\n",
    "        label_set = [new_labels[i] if item == old_labels[i] else item for item in label_set]\n",
    "    return label_set\n",
    "\n",
    "def label_permute_compare(ytdf,yp,labels = [True, False]):\n",
    "    \"\"\"\n",
    "    ytdf: labels dataframe object\n",
    "    yp: clustering label prediction output\n",
    "    Returns permuted label order and accuracy. \n",
    "    Example output: (3, 4, 1, 2, 0), 0.74 \n",
    "    \"\"\"\n",
    "    \n",
    "    perms = list(set(itertools.permutations(labels)))\n",
    "    \n",
    "    best_arr = []\n",
    "    best_acc = -1\n",
    "    \n",
    "    options = np.unique(ytdf)\n",
    "\n",
    "    for perm in perms:\n",
    "        iter_arr = replace_set_labels(yp.copy(), perm, options)\n",
    "            \n",
    "        equal_values = iter_arr == ytdf.values\n",
    "        iter_acc = np.count_nonzero(equal_values == True)/len(equal_values)\n",
    "        \n",
    "        if iter_acc > best_acc:\n",
    "            best_arr = perm\n",
    "            best_acc = iter_acc\n",
    "\n",
    "    return [best_arr, best_acc]"
   ]
  },
  {
   "cell_type": "code",
   "execution_count": 6,
   "metadata": {},
   "outputs": [
    {
     "name": "stdout",
     "output_type": "stream",
     "text": [
      "(True, False) 0.5\n"
     ]
    }
   ],
   "source": [
    "training_predictions = pd.DataFrame(training_features).idxmax(axis=1)\n",
    "extracted_topics, acc = label_permute_compare(Y_train, training_predictions)\n",
    "print(extracted_topics, acc)"
   ]
  },
  {
   "cell_type": "code",
   "execution_count": 7,
   "metadata": {},
   "outputs": [],
   "source": [
    "def calculate_probabilities(predictions):\n",
    "\n",
    "    feature_predictions = predictions.drop(columns=\"Prediction\")\n",
    "\n",
    "    max_values = feature_predictions.max(axis=1)\n",
    "    min_values = feature_predictions.min(axis=1)\n",
    "\n",
    "    probabilities = (max_values-min_values) / (abs(max_values) + abs(min_values))\n",
    "    probabilities = abs(1 - probabilities - predictions[\"Prediction\"])\n",
    "    \n",
    "    return probabilities\n",
    "\n"
   ]
  },
  {
   "cell_type": "code",
   "execution_count": 8,
   "metadata": {},
   "outputs": [
    {
     "data": {
      "text/html": [
       "<div>\n",
       "<style scoped>\n",
       "    .dataframe tbody tr th:only-of-type {\n",
       "        vertical-align: middle;\n",
       "    }\n",
       "\n",
       "    .dataframe tbody tr th {\n",
       "        vertical-align: top;\n",
       "    }\n",
       "\n",
       "    .dataframe thead th {\n",
       "        text-align: right;\n",
       "    }\n",
       "</style>\n",
       "<table border=\"1\" class=\"dataframe\">\n",
       "  <thead>\n",
       "    <tr style=\"text-align: right;\">\n",
       "      <th></th>\n",
       "      <th>True</th>\n",
       "      <th>False</th>\n",
       "      <th>Prediction</th>\n",
       "      <th>Probability</th>\n",
       "    </tr>\n",
       "  </thead>\n",
       "  <tbody>\n",
       "    <tr>\n",
       "      <th>0</th>\n",
       "      <td>-31623.668924</td>\n",
       "      <td>-535.257483</td>\n",
       "      <td>False</td>\n",
       "      <td>0.033288</td>\n",
       "    </tr>\n",
       "    <tr>\n",
       "      <th>1</th>\n",
       "      <td>-24711.499570</td>\n",
       "      <td>-391.340771</td>\n",
       "      <td>False</td>\n",
       "      <td>0.031179</td>\n",
       "    </tr>\n",
       "    <tr>\n",
       "      <th>2</th>\n",
       "      <td>-33320.765921</td>\n",
       "      <td>-572.071339</td>\n",
       "      <td>False</td>\n",
       "      <td>0.033758</td>\n",
       "    </tr>\n",
       "    <tr>\n",
       "      <th>3</th>\n",
       "      <td>28994.379590</td>\n",
       "      <td>620.117238</td>\n",
       "      <td>True</td>\n",
       "      <td>0.958121</td>\n",
       "    </tr>\n",
       "    <tr>\n",
       "      <th>4</th>\n",
       "      <td>-19061.556282</td>\n",
       "      <td>-279.660623</td>\n",
       "      <td>False</td>\n",
       "      <td>0.028919</td>\n",
       "    </tr>\n",
       "    <tr>\n",
       "      <th>...</th>\n",
       "      <td>...</td>\n",
       "      <td>...</td>\n",
       "      <td>...</td>\n",
       "      <td>...</td>\n",
       "    </tr>\n",
       "    <tr>\n",
       "      <th>78694</th>\n",
       "      <td>-24391.643299</td>\n",
       "      <td>-388.409096</td>\n",
       "      <td>False</td>\n",
       "      <td>0.031349</td>\n",
       "    </tr>\n",
       "    <tr>\n",
       "      <th>78695</th>\n",
       "      <td>-25665.862353</td>\n",
       "      <td>-406.634356</td>\n",
       "      <td>False</td>\n",
       "      <td>0.031193</td>\n",
       "    </tr>\n",
       "    <tr>\n",
       "      <th>78696</th>\n",
       "      <td>-32677.176417</td>\n",
       "      <td>-554.259152</td>\n",
       "      <td>False</td>\n",
       "      <td>0.033358</td>\n",
       "    </tr>\n",
       "    <tr>\n",
       "      <th>78697</th>\n",
       "      <td>-33144.565516</td>\n",
       "      <td>-565.872765</td>\n",
       "      <td>False</td>\n",
       "      <td>0.033573</td>\n",
       "    </tr>\n",
       "    <tr>\n",
       "      <th>78698</th>\n",
       "      <td>-32485.209794</td>\n",
       "      <td>-552.570318</td>\n",
       "      <td>False</td>\n",
       "      <td>0.033451</td>\n",
       "    </tr>\n",
       "  </tbody>\n",
       "</table>\n",
       "<p>78699 rows × 4 columns</p>\n",
       "</div>"
      ],
      "text/plain": [
       "               True       False  Prediction  Probability\n",
       "0     -31623.668924 -535.257483       False     0.033288\n",
       "1     -24711.499570 -391.340771       False     0.031179\n",
       "2     -33320.765921 -572.071339       False     0.033758\n",
       "3      28994.379590  620.117238        True     0.958121\n",
       "4     -19061.556282 -279.660623       False     0.028919\n",
       "...             ...         ...         ...          ...\n",
       "78694 -24391.643299 -388.409096       False     0.031349\n",
       "78695 -25665.862353 -406.634356       False     0.031193\n",
       "78696 -32677.176417 -554.259152       False     0.033358\n",
       "78697 -33144.565516 -565.872765       False     0.033573\n",
       "78698 -32485.209794 -552.570318       False     0.033451\n",
       "\n",
       "[78699 rows x 4 columns]"
      ]
     },
     "execution_count": 8,
     "metadata": {},
     "output_type": "execute_result"
    }
   ],
   "source": [
    "# Transform the TF-IDF: nmf_features\n",
    "testing_features = pca.transform(X_validation)\n",
    "\n",
    "# Convert testing features into a DataFrame\n",
    "testing_predictions = pd.DataFrame(testing_features, columns=extracted_topics)\n",
    "testing_predictions.insert(2, \"Prediction\", testing_predictions.idxmax(axis=1), True)\n",
    "testing_predictions.insert(3, \"Probability\", calculate_probabilities(testing_predictions), True)\n",
    "# Print Predictions\n",
    "testing_predictions\n"
   ]
  },
  {
   "cell_type": "code",
   "execution_count": 9,
   "metadata": {},
   "outputs": [
    {
     "name": "stdout",
     "output_type": "stream",
     "text": [
      "Correctly predicted labelss:  66815\n",
      "Incorrectly predicted labelss:  11884\n",
      "Model's accuracy:  0.8489942693045655\n",
      "Model's recall:  0.246704821366632\n",
      "Model's precision:  0.47087057265806026\n",
      "Model's F1 score:  0.32377375668601344\n"
     ]
    }
   ],
   "source": [
    "conf_matrix = confusion_matrix(list(Y_validation), testing_predictions[\"Prediction\"], labels=[False, True])\n",
    "\n",
    "recall_true = conf_matrix[1][1] / (conf_matrix[1][0] + conf_matrix[1][1])\n",
    "precision_true = conf_matrix[1][1] / (conf_matrix[0][1] + conf_matrix[1][1])\n",
    "F1_true = 2 * ( (precision_true * recall_true) / (precision_true + recall_true) )\n",
    "\n",
    "correct_vals = conf_matrix[0][0] + conf_matrix[1][1]\n",
    "incorrect_vals = conf_matrix[0][1] + conf_matrix[1][0]\n",
    "accuracy = correct_vals / (correct_vals + incorrect_vals)\n",
    "\n",
    "print(\"Correctly predicted labelss: \", correct_vals)\n",
    "print(\"Incorrectly predicted labelss: \", incorrect_vals)\n",
    "print(\"Model's accuracy: \", accuracy)\n",
    "print(\"Model's recall: \", recall_true)\n",
    "print(\"Model's precision: \", precision_true)\n",
    "print(\"Model's F1 score: \", F1_true)"
   ]
  },
  {
   "cell_type": "code",
   "execution_count": 10,
   "metadata": {},
   "outputs": [
    {
     "data": {
      "image/png": "[encoded data removed]",
      "text/plain": [
       "<Figure size 640x480 with 1 Axes>"
      ]
     },
     "metadata": {},
     "output_type": "display_data"
    }
   ],
   "source": [
    "# Plot confusion Matrix\n",
    "fig, ax = plt.subplots()\n",
    "ax.matshow(conf_matrix, cmap='tab20c')\n",
    "\n",
    "# Print classification counts within matrix boxes\n",
    "for i in range(len(conf_matrix)):\n",
    "   for j in range(len(conf_matrix[0])):\n",
    "      c = conf_matrix[j, i]\n",
    "      ax.text(i, j, str(c), va='center', ha='center')\n",
    "\n",
    "# Set plot axis titles and show plot\n",
    "ax.set_xlabel('Predicted Label')\n",
    "ax.set_ylabel('True Label')\n",
    "ax.set_title('Classification Counts')\n",
    "plt.show()"
   ]
  },
  {
   "cell_type": "code",
   "execution_count": 11,
   "metadata": {},
   "outputs": [
    {
     "data": {
      "image/png": "[encoded data removed]",
      "text/plain": [
       "<Figure size 640x480 with 1 Axes>"
      ]
     },
     "metadata": {},
     "output_type": "display_data"
    }
   ],
   "source": [
    "\n",
    "from sklearn.metrics import roc_auc_score\n",
    "from sklearn.metrics import roc_curve\n",
    "\n",
    "# Calculate scores for testing dataset\n",
    "fpr, tpr, thresholds = roc_curve(list(Y_validation), testing_predictions[\"Prediction\"])\n",
    "\n",
    "# Calculate AUC score\n",
    "auc_score = roc_auc_score(list(Y_validation), testing_predictions[\"Prediction\"])\n",
    "\n",
    "# Print ROC plot\n",
    "plt.plot(fpr, tpr,)\n",
    "plt.axis(\"square\")\n",
    "plt.xlabel(\"False Positive Rate\")\n",
    "plt.ylabel(\"True Positive Rate\")\n",
    "plt.legend([\"AUC score: \" + str(round(auc_score, 5))], loc=\"best\")\n",
    "plt.show()"
   ]
  },
  {
   "cell_type": "markdown",
   "metadata": {},
   "source": [
    "## Kaggle Testing"
   ]
  },
  {
   "cell_type": "code",
   "execution_count": 12,
   "metadata": {},
   "outputs": [
    {
     "data": {
      "text/html": [
       "<div>\n",
       "<style scoped>\n",
       "    .dataframe tbody tr th:only-of-type {\n",
       "        vertical-align: middle;\n",
       "    }\n",
       "\n",
       "    .dataframe tbody tr th {\n",
       "        vertical-align: top;\n",
       "    }\n",
       "\n",
       "    .dataframe thead th {\n",
       "        text-align: right;\n",
       "    }\n",
       "</style>\n",
       "<table border=\"1\" class=\"dataframe\">\n",
       "  <thead>\n",
       "    <tr style=\"text-align: right;\">\n",
       "      <th></th>\n",
       "      <th>True</th>\n",
       "      <th>False</th>\n",
       "      <th>Prediction</th>\n",
       "      <th>Probability</th>\n",
       "    </tr>\n",
       "  </thead>\n",
       "  <tbody>\n",
       "    <tr>\n",
       "      <th>0</th>\n",
       "      <td>-10649.698845</td>\n",
       "      <td>-123.563358</td>\n",
       "      <td>False</td>\n",
       "      <td>0.022939</td>\n",
       "    </tr>\n",
       "    <tr>\n",
       "      <th>1</th>\n",
       "      <td>-18815.841034</td>\n",
       "      <td>-280.158462</td>\n",
       "      <td>False</td>\n",
       "      <td>0.029342</td>\n",
       "    </tr>\n",
       "    <tr>\n",
       "      <th>2</th>\n",
       "      <td>83013.743707</td>\n",
       "      <td>1712.227260</td>\n",
       "      <td>True</td>\n",
       "      <td>0.959582</td>\n",
       "    </tr>\n",
       "    <tr>\n",
       "      <th>3</th>\n",
       "      <td>-17159.687714</td>\n",
       "      <td>-241.170976</td>\n",
       "      <td>False</td>\n",
       "      <td>0.027719</td>\n",
       "    </tr>\n",
       "    <tr>\n",
       "      <th>4</th>\n",
       "      <td>-30691.696710</td>\n",
       "      <td>-514.163102</td>\n",
       "      <td>False</td>\n",
       "      <td>0.032953</td>\n",
       "    </tr>\n",
       "    <tr>\n",
       "      <th>...</th>\n",
       "      <td>...</td>\n",
       "      <td>...</td>\n",
       "      <td>...</td>\n",
       "      <td>...</td>\n",
       "    </tr>\n",
       "    <tr>\n",
       "      <th>67837</th>\n",
       "      <td>-24693.900576</td>\n",
       "      <td>-386.265243</td>\n",
       "      <td>False</td>\n",
       "      <td>0.030802</td>\n",
       "    </tr>\n",
       "    <tr>\n",
       "      <th>67838</th>\n",
       "      <td>-32257.724445</td>\n",
       "      <td>-545.991855</td>\n",
       "      <td>False</td>\n",
       "      <td>0.033288</td>\n",
       "    </tr>\n",
       "    <tr>\n",
       "      <th>67839</th>\n",
       "      <td>-31156.811900</td>\n",
       "      <td>-522.585430</td>\n",
       "      <td>False</td>\n",
       "      <td>0.032992</td>\n",
       "    </tr>\n",
       "    <tr>\n",
       "      <th>67840</th>\n",
       "      <td>-31198.669348</td>\n",
       "      <td>-524.337532</td>\n",
       "      <td>False</td>\n",
       "      <td>0.033057</td>\n",
       "    </tr>\n",
       "    <tr>\n",
       "      <th>67841</th>\n",
       "      <td>-33320.770466</td>\n",
       "      <td>-572.113899</td>\n",
       "      <td>False</td>\n",
       "      <td>0.033760</td>\n",
       "    </tr>\n",
       "  </tbody>\n",
       "</table>\n",
       "<p>67842 rows × 4 columns</p>\n",
       "</div>"
      ],
      "text/plain": [
       "               True        False  Prediction  Probability\n",
       "0     -10649.698845  -123.563358       False     0.022939\n",
       "1     -18815.841034  -280.158462       False     0.029342\n",
       "2      83013.743707  1712.227260        True     0.959582\n",
       "3     -17159.687714  -241.170976       False     0.027719\n",
       "4     -30691.696710  -514.163102       False     0.032953\n",
       "...             ...          ...         ...          ...\n",
       "67837 -24693.900576  -386.265243       False     0.030802\n",
       "67838 -32257.724445  -545.991855       False     0.033288\n",
       "67839 -31156.811900  -522.585430       False     0.032992\n",
       "67840 -31198.669348  -524.337532       False     0.033057\n",
       "67841 -33320.770466  -572.113899       False     0.033760\n",
       "\n",
       "[67842 rows x 4 columns]"
      ]
     },
     "execution_count": 12,
     "metadata": {},
     "output_type": "execute_result"
    }
   ],
   "source": [
    "testing_set = pd.read_csv('../Data/test.csv')\n",
    "test = testing_set.drop(columns=[\"id\"])\n",
    "\n",
    "# Transform the TF-IDF: nmf_features\n",
    "testing_features = pca.transform(test)\n",
    "\n",
    "# Convert testing features into a DataFrame\n",
    "test_predictions = pd.DataFrame(testing_features, columns=extracted_topics)\n",
    "test_predictions.insert(2, \"Prediction\", test_predictions.idxmax(axis=1), True)\n",
    "test_predictions.insert(3, \"Probability\", calculate_probabilities(test_predictions), True)\n",
    "# Print Predictions\n",
    "test_predictions\n"
   ]
  },
  {
   "cell_type": "code",
   "execution_count": 13,
   "metadata": {},
   "outputs": [
    {
     "name": "stdout",
     "output_type": "stream",
     "text": [
      "       id   defects\n",
      "0  101763  0.022939\n",
      "1  101764  0.029342\n",
      "2  101765  0.959582\n",
      "3  101766  0.027719\n",
      "4  101767  0.032953\n"
     ]
    }
   ],
   "source": [
    "results = pd.DataFrame(testing_set[\"id\"].copy())\n",
    "results[\"defects\"] = test_predictions[\"Probability\"]\n",
    "\n",
    "print(results.head())\n",
    "results.to_csv(\"../Data/results.csv\", index=False)"
   ]
  },
  {
   "cell_type": "markdown",
   "metadata": {},
   "source": [
    "## References\n",
    "\n",
    "* [Binary Classification with a Software Defects Dataset](https://www.kaggle.com/competitions/playground-series-s3e23/code)\n",
    "* [Software Metrics Glossary](http://www.mccabe.com/iq_research_metrics.htm)\n",
    "* [Software Engineering | Halstead’s Software Metrics](https://www.geeksforgeeks.org/software-engineering-halsteads-software-metrics/)"
   ]
  },
  {
   "cell_type": "markdown",
   "metadata": {},
   "source": []
  }
 ],
 "metadata": {
  "kernelspec": {
   "display_name": "Python 3",
   "language": "python",
   "name": "python3"
  },
  "language_info": {
   "codemirror_mode": {
    "name": "ipython",
    "version": 3
   },
   "file_extension": ".py",
   "mimetype": "text/x-python",
   "name": "python",
   "nbconvert_exporter": "python",
   "pygments_lexer": "ipython3",
   "version": "3.9.18"
  },
  "orig_nbformat": 4
 },
 "nbformat": 4,
 "nbformat_minor": 2
}
